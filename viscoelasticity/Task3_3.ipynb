{
 "cells": [
  {
   "cell_type": "markdown",
   "metadata": {},
   "source": [
    "# Viscoelasity - GSM model"
   ]
  },
  {
   "cell_type": "markdown",
   "metadata": {},
   "source": [
    "## Imports"
   ]
  },
  {
   "cell_type": "code",
   "execution_count": null,
   "metadata": {},
   "outputs": [],
   "source": [
    "import seaborn as sns\n",
    "import datetime\n",
    "now = datetime.datetime.now\n",
    "\n",
    "from keras import optimizers\n",
    "from keras import losses\n",
    "from matplotlib import pyplot as plt\n",
    "\n",
    "# plt.rcParams['text.usetex'] = True\n",
    "sns.set_style('darkgrid')"
   ]
  },
  {
   "cell_type": "code",
   "execution_count": 2,
   "metadata": {},
   "outputs": [],
   "source": [
    "from src.plots import plot_model_pred, plot_loss\n",
    "from src.data import generate_data_harmonic, generate_data_relaxation\n",
    "from src.gsm import GSMModel"
   ]
  },
  {
   "cell_type": "markdown",
   "metadata": {},
   "source": [
    "## Settings"
   ]
  },
  {
   "cell_type": "code",
   "execution_count": 3,
   "metadata": {},
   "outputs": [],
   "source": [
    "E_infty = 0.5\n",
    "E = 2\n",
    "eta = 1\n",
    "n = 150"
   ]
  },
  {
   "cell_type": "code",
   "execution_count": null,
   "metadata": {},
   "outputs": [],
   "source": [
    "As = [1,1,2]\n",
    "omegas = [1,2,3]\n",
    "\n",
    "eps, eps_dot, sig, dts = generate_data_harmonic(E_infty, E, eta, n, omegas, As)"
   ]
  },
  {
   "cell_type": "markdown",
   "metadata": {},
   "source": [
    "## Train Model"
   ]
  },
  {
   "cell_type": "code",
   "execution_count": null,
   "metadata": {},
   "outputs": [],
   "source": [
    "gsm_model = GSMModel([16, 1], ['softplus', 'linear'])\n",
    "gsm_model.compile(\n",
    "    optimizer=optimizers.Adam(learning_rate=0.01),\n",
    "    loss=losses.MeanSquaredError()\n",
    ")\n",
    "\n",
    "t1 = now()\n",
    "print(t1)\n",
    "h = gsm_model.fit([eps, dts], [sig], epochs=5000, verbose=0)\n",
    "t2 = now()\n",
    "print('it took', t2 - t1, '(sec) to calibrate the model')\n",
    "plot_loss(h.history['loss'], suptitle='training loss')"
   ]
  },
  {
   "cell_type": "markdown",
   "metadata": {},
   "source": [
    "## Plot Evaluation"
   ]
  },
  {
   "cell_type": "code",
   "execution_count": null,
   "metadata": {},
   "outputs": [],
   "source": [
    "\n",
    "As = [1,1,2]\n",
    "omegas = [1,2,3]\n",
    "\n",
    "eps, eps_dot, sig, dts = generate_data_harmonic(E_infty, E, eta, n, omegas, As)\n",
    "sig_m = gsm_model([eps, dts])\n",
    "# plot_data(eps, eps_dot, sig, omegas, As)\n",
    "plot_model_pred(eps, sig, sig_m, omegas, As)\n",
    "\n",
    "\n",
    "eps, eps_dot, sig, dts = generate_data_relaxation(E_infty, E, eta, n, omegas, As)\n",
    "sig_m = gsm_model([eps, dts])\n",
    "# plot_data(eps, eps_dot, sig, omegas, As)\n",
    "plot_model_pred(eps, sig, sig_m, omegas, As)"
   ]
  },
  {
   "cell_type": "code",
   "execution_count": null,
   "metadata": {},
   "outputs": [],
   "source": [
    "\n",
    "As = [1,3,2]\n",
    "omegas = [3,2,4]\n",
    "\n",
    "eps, eps_dot, sig, dts = generate_data_harmonic(E_infty, E, eta, n, omegas, As)\n",
    "sig_m = gsm_model([eps, dts])\n",
    "# plot_data(eps, eps_dot, sig, omegas, As)\n",
    "plot_model_pred(eps, sig, sig_m, omegas, As)\n",
    "\n",
    "\n",
    "eps, eps_dot, sig, dts = generate_data_relaxation(E_infty, E, eta, n, omegas, As)\n",
    "sig_m = gsm_model([eps, dts])\n",
    "# plot_data(eps, eps_dot, sig, omegas, As)\n",
    "plot_model_pred(eps, sig, sig_m, omegas, As)"
   ]
  }
 ],
 "metadata": {
  "kernelspec": {
   "display_name": "tf_kernel",
   "language": "python",
   "name": "tf_kernel"
  },
  "language_info": {
   "codemirror_mode": {
    "name": "ipython",
    "version": 3
   },
   "file_extension": ".py",
   "mimetype": "text/x-python",
   "name": "python",
   "nbconvert_exporter": "python",
   "pygments_lexer": "ipython3",
   "version": "3.11.0"
  }
 },
 "nbformat": 4,
 "nbformat_minor": 2
}
