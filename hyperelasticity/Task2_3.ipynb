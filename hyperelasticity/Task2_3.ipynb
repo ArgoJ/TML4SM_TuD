{
 "cells": [
  {
   "cell_type": "markdown",
   "metadata": {},
   "source": [
    "# Task 2.3 - Physics-augmented neural network model"
   ]
  },
  {
   "cell_type": "markdown",
   "metadata": {},
   "source": [
    "## Setup"
   ]
  },
  {
   "cell_type": "code",
   "execution_count": 1,
   "metadata": {},
   "outputs": [
    {
     "name": "stderr",
     "output_type": "stream",
     "text": [
      "2024-11-29 09:11:44.085633: I external/local_xla/xla/tsl/cuda/cudart_stub.cc:32] Could not find cuda drivers on your machine, GPU will not be used.\n",
      "2024-11-29 09:11:44.089745: I external/local_xla/xla/tsl/cuda/cudart_stub.cc:32] Could not find cuda drivers on your machine, GPU will not be used.\n",
      "2024-11-29 09:11:44.101120: E external/local_xla/xla/stream_executor/cuda/cuda_fft.cc:485] Unable to register cuFFT factory: Attempting to register factory for plugin cuFFT when one has already been registered\n",
      "2024-11-29 09:11:44.119720: E external/local_xla/xla/stream_executor/cuda/cuda_dnn.cc:8454] Unable to register cuDNN factory: Attempting to register factory for plugin cuDNN when one has already been registered\n",
      "2024-11-29 09:11:44.124709: E external/local_xla/xla/stream_executor/cuda/cuda_blas.cc:1452] Unable to register cuBLAS factory: Attempting to register factory for plugin cuBLAS when one has already been registered\n",
      "2024-11-29 09:11:44.137969: I tensorflow/core/platform/cpu_feature_guard.cc:210] This TensorFlow binary is optimized to use available CPU instructions in performance-critical operations.\n",
      "To enable the following instructions: AVX2 FMA, in other operations, rebuild TensorFlow with the appropriate compiler flags.\n",
      "2024-11-29 09:11:45.249397: W tensorflow/compiler/tf2tensorrt/utils/py_utils.cc:38] TF-TRT Warning: Could not find TensorRT\n"
     ]
    }
   ],
   "source": [
    "import os\n",
    "import tensorflow as tf\n",
    "import numpy as np\n",
    "import matplotlib.pyplot as plt\n",
    "import seaborn as sns\n",
    "\n",
    "plt.rcParams['text.usetex'] = True\n",
    "sns.set_style('darkgrid')\n",
    "\n",
    "from typing import Literal\n",
    "from keras import optimizers\n",
    "from keras import losses\n",
    "from keras import metrics\n",
    "from pprint import pprint\n",
    "\n",
    "from src.models import InvariantsICNN\n",
    "from src.data_import import load_paml_dataset, load_data\n",
    "from src.plots import plot_stress_predictions, plot_energy_prediction, plot_loss, plot_heatmap\n",
    "from src.utils import get_scores\n",
    "from src.predict_utils import predict_multi_cases, predict_identity_F"
   ]
  },
  {
   "cell_type": "markdown",
   "metadata": {},
   "source": [
    "### Paths"
   ]
  },
  {
   "cell_type": "code",
   "execution_count": 2,
   "metadata": {},
   "outputs": [],
   "source": [
    "# Calibration paths\n",
    "calibration_dir = os.path.abspath('calibration')\n",
    "biaxial_path = os.path.join(calibration_dir, 'biaxial.txt')\n",
    "pure_shear_path = os.path.join(calibration_dir, 'pure_shear.txt')\n",
    "uniaxial_path = os.path.join(calibration_dir, 'uniaxial.txt')\n",
    "\n",
    "# Test paths\n",
    "test_dir = os.path.abspath('test')\n",
    "biax_test_path = os.path.join(test_dir, 'biax_test.txt')\n",
    "mixed_test_path = os.path.join(test_dir, 'mixed_test.txt')"
   ]
  },
  {
   "cell_type": "markdown",
   "metadata": {},
   "source": [
    "### Load Datasets"
   ]
  },
  {
   "cell_type": "code",
   "execution_count": 3,
   "metadata": {},
   "outputs": [],
   "source": [
    "biaxial_F, biaxial_P, biaxial_W = load_data(biaxial_path)\n",
    "pure_shear_F, pure_shear_P, pure_shear_W = load_data(pure_shear_path)\n",
    "uniaxial_F, uniaxial_P, uniaxial_W = load_data(uniaxial_path)\n",
    "\n",
    "biax_test_F, biax_test_P, biax_test_W = load_data(biax_test_path)\n",
    "mixed_test_F, mixed_test_P, mixed_test_W = load_data(mixed_test_path)\n",
    "\n",
    "train_FPW_tup = {\n",
    "    'biaxial': (biaxial_F, biaxial_P, biaxial_W),\n",
    "    'pure_shear': (pure_shear_F, pure_shear_P, pure_shear_W),\n",
    "    'uniaxial': (uniaxial_F, uniaxial_P, uniaxial_W)\n",
    "}\n",
    "\n",
    "test_FPW_tup = {\n",
    "    'biaxial': (biax_test_F, biax_test_P, biax_test_W),\n",
    "    'mixed': (mixed_test_F, mixed_test_P, mixed_test_W),\n",
    "}"
   ]
  },
  {
   "cell_type": "markdown",
   "metadata": {},
   "source": [
    "## PANN calibration on stress Tensors $P$"
   ]
  },
  {
   "cell_type": "code",
   "execution_count": 4,
   "metadata": {},
   "outputs": [],
   "source": [
    "train_stress_features = tf.concat([biaxial_F, pure_shear_F, uniaxial_F], axis=0)\n",
    "train_stress_labels = tf.concat([biaxial_P, pure_shear_P, uniaxial_P], axis=0)"
   ]
  },
  {
   "cell_type": "code",
   "execution_count": null,
   "metadata": {},
   "outputs": [
    {
     "name": "stderr",
     "output_type": "stream",
     "text": [
      "/home/argo/envs/forl_env/lib/python3.11/site-packages/keras/src/optimizers/base_optimizer.py:731: UserWarning: Gradients do not exist for variables ['bias'] when minimizing the loss. If using `model.compile()`, did you forget to provide a `loss` argument?\n",
      "  warnings.warn(\n"
     ]
    }
   ],
   "source": [
    "pann_stress_model = InvariantsICNN(\n",
    "    hidden_sizes=[16, 1],\n",
    "    activations=['softplus', 'linear'],\n",
    "    use_derivative=True\n",
    ")\n",
    "pann_stress_model.compile(\n",
    "    optimizer=optimizers.Adam(learning_rate=0.01),\n",
    "    loss=losses.MeanSquaredError()\n",
    ")\n",
    "pann_stress_h = pann_stress_model.fit(\n",
    "    train_stress_features, train_stress_labels, batch_size=32, epochs=2000, verbose=0\n",
    ")\n",
    "pann_stress_loss = pann_stress_h.history['loss']\n",
    "plot_loss(pann_stress_loss)"
   ]
  },
  {
   "cell_type": "markdown",
   "metadata": {},
   "source": [
    "### Model Evaluation"
   ]
  },
  {
   "cell_type": "markdown",
   "metadata": {},
   "source": [
    "#### -- predict on seen load cases"
   ]
  },
  {
   "cell_type": "code",
   "execution_count": null,
   "metadata": {},
   "outputs": [],
   "source": [
    "(P_stress_train_labels, W_stress_train_labels, P_stress_train_preds, W_stress_train_preds\n",
    " ) = predict_multi_cases(pann_stress_model, train_FPW_tup)\n",
    "plot_stress_predictions(P_stress_train_labels, P_stress_train_preds)\n",
    "plot_energy_prediction(W_stress_train_labels, W_stress_train_preds)"
   ]
  },
  {
   "cell_type": "markdown",
   "metadata": {},
   "source": [
    "#### -- predict on unseen load cases"
   ]
  },
  {
   "cell_type": "code",
   "execution_count": null,
   "metadata": {},
   "outputs": [],
   "source": [
    "(P_stress_test_labels, W_stress_test_labels, P_stress_test_preds, W_stress_test_preds\n",
    " ) = predict_multi_cases(pann_stress_model, test_FPW_tup)\n",
    "plot_stress_predictions(P_stress_test_labels, P_stress_test_preds)\n",
    "plot_energy_prediction(W_stress_test_labels, W_stress_test_preds)"
   ]
  },
  {
   "cell_type": "markdown",
   "metadata": {},
   "source": [
    "## Test $F=I$ for stress and energy"
   ]
  },
  {
   "cell_type": "markdown",
   "metadata": {},
   "source": [
    "### PANN calibration on stress Tensor $P$"
   ]
  },
  {
   "cell_type": "code",
   "execution_count": null,
   "metadata": {},
   "outputs": [],
   "source": [
    "predict_identity_F(pann_stress_model)"
   ]
  },
  {
   "cell_type": "markdown",
   "metadata": {},
   "source": [
    "### PANN calibration on energy $W$"
   ]
  },
  {
   "cell_type": "code",
   "execution_count": null,
   "metadata": {},
   "outputs": [],
   "source": [
    "train_energy_features = tf.concat([biaxial_F, pure_shear_F, uniaxial_F], axis=0)\n",
    "train_energy_labels = tf.concat([biaxial_W, pure_shear_W, uniaxial_W], axis=0)"
   ]
  },
  {
   "cell_type": "code",
   "execution_count": null,
   "metadata": {},
   "outputs": [],
   "source": [
    "pann_energy_model = InvariantsICNN(\n",
    "    hidden_sizes=[16, 1],\n",
    "    activations=['softplus', 'linear'],\n",
    "    use_derivative=False\n",
    ")\n",
    "pann_energy_model.compile(\n",
    "    optimizer=optimizers.Adam(learning_rate=0.01),\n",
    "    loss=losses.MeanSquaredError()\n",
    ")\n",
    "pann_energy_h = pann_energy_model.fit(\n",
    "    train_energy_features, train_energy_labels, batch_size=32, epochs=3000, verbose=0\n",
    ")\n",
    "pann_energy_loss = pann_energy_h.history['loss']\n",
    "plot_loss(pann_energy_loss)"
   ]
  },
  {
   "cell_type": "code",
   "execution_count": null,
   "metadata": {},
   "outputs": [],
   "source": [
    "predict_identity_F(pann_energy_model)"
   ]
  },
  {
   "cell_type": "code",
   "execution_count": null,
   "metadata": {},
   "outputs": [],
   "source": [
    "(P_energy_test_labels, W_energy_test_labels, P_energy_test_preds, W_energy_test_preds\n",
    " ) = predict_multi_cases(pann_energy_model, test_FPW_tup)\n",
    "plot_stress_predictions(P_energy_test_labels, P_energy_test_preds)\n",
    "plot_energy_prediction(W_energy_test_labels, W_energy_test_preds)"
   ]
  },
  {
   "cell_type": "markdown",
   "metadata": {},
   "source": [
    "### PANN calibration on stress $P$ and energy $W$"
   ]
  },
  {
   "cell_type": "code",
   "execution_count": null,
   "metadata": {},
   "outputs": [],
   "source": [
    "train_both_features = tf.concat([biaxial_F, pure_shear_F, uniaxial_F], axis=0)\n",
    "train_both_labels = (\n",
    "    tf.concat([biaxial_W, pure_shear_W, uniaxial_W], axis=0), \n",
    "    tf.concat([biaxial_P, pure_shear_P, uniaxial_P], axis=0)\n",
    ")"
   ]
  },
  {
   "cell_type": "code",
   "execution_count": null,
   "metadata": {},
   "outputs": [],
   "source": [
    "pann_both_model = InvariantsICNN(\n",
    "    hidden_sizes=[16, 1],\n",
    "    activations=['softplus', 'linear'],\n",
    "    use_output_and_derivative=True\n",
    ")\n",
    "pann_both_model.compile(\n",
    "    optimizer=optimizers.Adam(learning_rate=0.01),\n",
    "    loss=losses.MeanSquaredError()\n",
    ")\n",
    "pann_energy_h = pann_both_model.fit(\n",
    "    train_both_features, train_both_labels, batch_size=32, epochs=3000, verbose=0\n",
    ")\n",
    "pann_energy_loss = pann_energy_h.history['loss']\n",
    "plot_loss(pann_energy_loss)"
   ]
  },
  {
   "cell_type": "code",
   "execution_count": null,
   "metadata": {},
   "outputs": [],
   "source": [
    "predict_identity_F(pann_both_model)"
   ]
  },
  {
   "cell_type": "code",
   "execution_count": null,
   "metadata": {},
   "outputs": [],
   "source": [
    "(P_both_test_labels, W_both_test_labels, P_both_test_preds, W_both_test_preds\n",
    " ) = predict_multi_cases(pann_both_model, test_FPW_tup)\n",
    "plot_stress_predictions(P_both_test_labels, P_both_test_preds)\n",
    "plot_energy_prediction(W_both_test_labels, W_both_test_preds)"
   ]
  },
  {
   "cell_type": "markdown",
   "metadata": {},
   "source": [
    "## Model calibration on one load case"
   ]
  },
  {
   "cell_type": "code",
   "execution_count": null,
   "metadata": {},
   "outputs": [],
   "source": [
    "train_one_features = uniaxial_F\n",
    "train_one_labels = uniaxial_P"
   ]
  },
  {
   "cell_type": "code",
   "execution_count": null,
   "metadata": {},
   "outputs": [],
   "source": [
    "pann_one_model = InvariantsICNN(\n",
    "    hidden_sizes=[16, 1],\n",
    "    activations=['softplus', 'linear']\n",
    ")\n",
    "pann_one_model.compile(\n",
    "    optimizer=optimizers.Adam(learning_rate=0.01),\n",
    "    loss=losses.MeanSquaredError()\n",
    ")\n",
    "one_h = pann_stress_model.fit(\n",
    "    train_one_features, train_one_labels, batch_size=32, epochs=3000, verbose=0)\n",
    "one_loss = one_h.history['loss']\n",
    "plot_loss(one_loss)"
   ]
  },
  {
   "cell_type": "markdown",
   "metadata": {},
   "source": [
    "### Model Evaluation"
   ]
  },
  {
   "cell_type": "markdown",
   "metadata": {},
   "source": [
    "#### -- on seen load cases"
   ]
  },
  {
   "cell_type": "code",
   "execution_count": null,
   "metadata": {},
   "outputs": [],
   "source": [
    "(P_one_train_labels, W_one_train_labels, P_one_train_preds, W_one_train_preds\n",
    " ) = predict_multi_cases(pann_one_model, train_FPW_tup)\n",
    "plot_stress_predictions(P_one_train_labels, P_one_train_preds)\n",
    "plot_energy_prediction(W_one_train_labels, W_one_train_preds)"
   ]
  },
  {
   "cell_type": "markdown",
   "metadata": {},
   "source": [
    "#### -- on unseen load cases"
   ]
  },
  {
   "cell_type": "code",
   "execution_count": null,
   "metadata": {},
   "outputs": [],
   "source": [
    "(P_one_test_labels, W_one_test_labels, P_one_test_preds, W_one_test_preds\n",
    " ) = predict_multi_cases(pann_one_model, test_FPW_tup)\n",
    "plot_stress_predictions(P_one_test_labels, P_one_test_preds)\n",
    "plot_energy_prediction(W_one_test_labels, W_one_test_preds)"
   ]
  }
 ],
 "metadata": {
  "kernelspec": {
   "display_name": "forl_kernel",
   "language": "python",
   "name": "forl_kernel"
  },
  "language_info": {
   "codemirror_mode": {
    "name": "ipython",
    "version": 3
   },
   "file_extension": ".py",
   "mimetype": "text/x-python",
   "name": "python",
   "nbconvert_exporter": "python",
   "pygments_lexer": "ipython3",
   "version": "3.11.0rc1"
  }
 },
 "nbformat": 4,
 "nbformat_minor": 2
}
