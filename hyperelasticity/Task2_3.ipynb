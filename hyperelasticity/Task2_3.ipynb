{
 "cells": [
  {
   "cell_type": "markdown",
   "metadata": {},
   "source": [
    "# Task 2.3 - Physics-augmented neural network model"
   ]
  },
  {
   "cell_type": "markdown",
   "metadata": {},
   "source": [
    "## Setup"
   ]
  },
  {
   "cell_type": "code",
   "execution_count": 1,
   "metadata": {},
   "outputs": [
    {
     "name": "stderr",
     "output_type": "stream",
     "text": [
      "2024-11-26 15:28:32.564367: I external/local_xla/xla/tsl/cuda/cudart_stub.cc:32] Could not find cuda drivers on your machine, GPU will not be used.\n",
      "2024-11-26 15:28:32.570893: I external/local_xla/xla/tsl/cuda/cudart_stub.cc:32] Could not find cuda drivers on your machine, GPU will not be used.\n",
      "2024-11-26 15:28:32.584702: E external/local_xla/xla/stream_executor/cuda/cuda_fft.cc:485] Unable to register cuFFT factory: Attempting to register factory for plugin cuFFT when one has already been registered\n",
      "2024-11-26 15:28:32.606879: E external/local_xla/xla/stream_executor/cuda/cuda_dnn.cc:8454] Unable to register cuDNN factory: Attempting to register factory for plugin cuDNN when one has already been registered\n",
      "2024-11-26 15:28:32.612980: E external/local_xla/xla/stream_executor/cuda/cuda_blas.cc:1452] Unable to register cuBLAS factory: Attempting to register factory for plugin cuBLAS when one has already been registered\n",
      "2024-11-26 15:28:32.631273: I tensorflow/core/platform/cpu_feature_guard.cc:210] This TensorFlow binary is optimized to use available CPU instructions in performance-critical operations.\n",
      "To enable the following instructions: AVX2 FMA, in other operations, rebuild TensorFlow with the appropriate compiler flags.\n",
      "2024-11-26 15:28:33.632011: W tensorflow/compiler/tf2tensorrt/utils/py_utils.cc:38] TF-TRT Warning: Could not find TensorRT\n"
     ]
    }
   ],
   "source": [
    "import os\n",
    "import tensorflow as tf\n",
    "import numpy as np\n",
    "import matplotlib.pyplot as plt\n",
    "import seaborn as sns\n",
    "\n",
    "plt.rcParams['text.usetex'] = True\n",
    "sns.set_style('darkgrid')\n",
    "\n",
    "from typing import Literal\n",
    "from keras import optimizers\n",
    "from keras import losses\n",
    "from keras import metrics\n",
    "from pprint import pprint\n",
    "\n",
    "from src.models import InvariantsICNN\n",
    "from src.data_import import load_paml_dataset, load_data\n",
    "from src.plots import plot_stress_predictions, plot_loss, plot_heatmap\n",
    "from src.utils import get_scores\n",
    "from src.predict_utils import predict_multi_cases, predict_identity_F"
   ]
  },
  {
   "cell_type": "markdown",
   "metadata": {},
   "source": [
    "### Paths"
   ]
  },
  {
   "cell_type": "code",
   "execution_count": 2,
   "metadata": {},
   "outputs": [],
   "source": [
    "# Calibration paths\n",
    "calibration_dir = os.path.abspath('calibration')\n",
    "biaxial_path = os.path.join(calibration_dir, 'biaxial.txt')\n",
    "pure_shear_path = os.path.join(calibration_dir, 'pure_shear.txt')\n",
    "uniaxial_path = os.path.join(calibration_dir, 'uniaxial.txt')\n",
    "\n",
    "# Test paths\n",
    "test_dir = os.path.abspath('test')\n",
    "biax_test_path = os.path.join(test_dir, 'biax_test.txt')\n",
    "mixed_test_path = os.path.join(test_dir, 'mixed_test.txt')"
   ]
  },
  {
   "cell_type": "markdown",
   "metadata": {},
   "source": [
    "### Load Datasets"
   ]
  },
  {
   "cell_type": "code",
   "execution_count": 3,
   "metadata": {},
   "outputs": [],
   "source": [
    "biaxial_F, biaxial_P, biaxial_W = load_data(biaxial_path)\n",
    "pure_shear_F, pure_shear_P, pure_shear_W = load_data(pure_shear_path)\n",
    "uniaxial_F, uniaxial_P, uniaxial_W = load_data(uniaxial_path)\n",
    "\n",
    "biax_test_F, biax_test_P, biax_test_W = load_data(biax_test_path)\n",
    "mixed_test_F, mixed_test_P, mixed_test_W = load_data(mixed_test_path)"
   ]
  },
  {
   "cell_type": "markdown",
   "metadata": {},
   "source": [
    "## PANN calibration on all stress Tensor $P$"
   ]
  },
  {
   "cell_type": "code",
   "execution_count": null,
   "metadata": {},
   "outputs": [],
   "source": [
    "train_stress_features = tf.concat([biaxial_F, pure_shear_F, uniaxial_F], axis=0)\n",
    "train_stress_labels = tf.concat([biaxial_P, pure_shear_P, uniaxial_P], axis=0)"
   ]
  },
  {
   "cell_type": "code",
   "execution_count": null,
   "metadata": {},
   "outputs": [],
   "source": [
    "pann_stress_model = InvariantsICNN(\n",
    "    hidden_sizes=[16, 1],\n",
    "    activations=['softplus', 'linear'],\n",
    "    use_derivative=True\n",
    ")\n",
    "pann_stress_model.compile(\n",
    "    optimizer=optimizers.Adam(learning_rate=0.01),\n",
    "    loss=losses.MeanSquaredError()\n",
    ")\n",
    "pann_stress_h = pann_stress_model.fit(train_stress_features, train_stress_labels, batch_size=32, epochs=50, verbose=0)\n",
    "pann_stress_loss = pann_stress_h.history['loss']\n",
    "plot_loss(pann_stress_loss)"
   ]
  },
  {
   "cell_type": "markdown",
   "metadata": {},
   "source": [
    "### Model Evaluation"
   ]
  },
  {
   "cell_type": "markdown",
   "metadata": {},
   "source": [
    "#### -- predict on seen load cases"
   ]
  },
  {
   "cell_type": "code",
   "execution_count": null,
   "metadata": {},
   "outputs": [],
   "source": [
    "stress_train_input_label_tup = {\n",
    "    'biaxial': (biaxial_F, biaxial_P),\n",
    "    'pure_shear': (pure_shear_F, pure_shear_P),\n",
    "    'uniaxial': (uniaxial_F, uniaxial_P)\n",
    "}\n",
    "\n",
    "stress_labels, stress_preds = predict_multi_cases(pann_stress_model, stress_train_input_label_tup)\n",
    "plot_stress_predictions(stress_labels, stress_preds)"
   ]
  },
  {
   "cell_type": "markdown",
   "metadata": {},
   "source": [
    "#### -- predict on unseen load cases"
   ]
  },
  {
   "cell_type": "code",
   "execution_count": null,
   "metadata": {},
   "outputs": [],
   "source": [
    "stress_test_input_label_tup = {\n",
    "    'biaxial': (biax_test_F, biax_test_P),\n",
    "    'mixed': (mixed_test_F, mixed_test_P),\n",
    "}\n",
    "stress_test_labels, stress_test_predictions = predict_multi_cases(pann_stress_model, stress_test_input_label_tup)\n",
    "plot_stress_predictions(stress_test_labels, stress_test_predictions)"
   ]
  },
  {
   "cell_type": "markdown",
   "metadata": {},
   "source": [
    "## Test $F=I$ for stress and energy"
   ]
  },
  {
   "cell_type": "markdown",
   "metadata": {},
   "source": [
    "### PANN calibration on stress Tensor $P$"
   ]
  },
  {
   "cell_type": "code",
   "execution_count": null,
   "metadata": {},
   "outputs": [],
   "source": [
    "predict_identity_F(pann_stress_model)"
   ]
  },
  {
   "cell_type": "markdown",
   "metadata": {},
   "source": [
    "### PANN calibration on energy $W$"
   ]
  },
  {
   "cell_type": "code",
   "execution_count": null,
   "metadata": {},
   "outputs": [],
   "source": [
    "train_energy_features = tf.concat([biaxial_F, pure_shear_F, uniaxial_F], axis=0)\n",
    "train_energy_labels = tf.concat([biaxial_W, pure_shear_W, uniaxial_W], axis=0)"
   ]
  },
  {
   "cell_type": "code",
   "execution_count": null,
   "metadata": {},
   "outputs": [],
   "source": [
    "pann_energy_model = InvariantsICNN(\n",
    "    hidden_sizes=[16, 1],\n",
    "    activations=['softplus', 'linear'],\n",
    "    use_derivative=False\n",
    ")\n",
    "pann_energy_model.compile(\n",
    "    optimizer=optimizers.Adam(learning_rate=0.01),\n",
    "    loss=losses.MeanSquaredError()\n",
    ")\n",
    "pann_energy_h = pann_energy_model.fit(train_energy_features, train_energy_labels, batch_size=32, epochs=50, verbose=0)\n",
    "pann_energy_loss = pann_energy_h.history['loss']\n",
    "plot_loss(pann_energy_loss)"
   ]
  },
  {
   "cell_type": "code",
   "execution_count": null,
   "metadata": {},
   "outputs": [],
   "source": [
    "predict_identity_F(pann_energy_model)"
   ]
  },
  {
   "cell_type": "markdown",
   "metadata": {},
   "source": [
    "## PANN calibration on stress $P$ and energy $W$"
   ]
  },
  {
   "cell_type": "code",
   "execution_count": 4,
   "metadata": {},
   "outputs": [],
   "source": [
    "train_both_features = tf.concat([biaxial_F, pure_shear_F, uniaxial_F], axis=0)\n",
    "train_both_labels = tf.concat([biaxial_W, pure_shear_W, uniaxial_W], axis=0)"
   ]
  },
  {
   "cell_type": "code",
   "execution_count": 6,
   "metadata": {},
   "outputs": [
    {
     "data": {
      "image/png": "[encoded data removed]",
      "text/plain": [
       "<Figure size 700x400 with 1 Axes>"
      ]
     },
     "metadata": {},
     "output_type": "display_data"
    }
   ],
   "source": [
    "pann_both_model = InvariantsICNN(\n",
    "    hidden_sizes=[16, 1],\n",
    "    activations=['softplus', 'linear'],\n",
    "    use_output_and_derivative=True\n",
    ")\n",
    "pann_both_model.compile(\n",
    "    optimizer=optimizers.Adam(learning_rate=0.01),\n",
    "    loss=losses.MeanSquaredError()\n",
    ")\n",
    "pann_energy_h = pann_both_model.fit(train_both_features, train_both_labels, batch_size=32, epochs=50, verbose=0)\n",
    "pann_energy_loss = pann_energy_h.history['loss']\n",
    "plot_loss(pann_energy_loss)"
   ]
  },
  {
   "cell_type": "code",
   "execution_count": 7,
   "metadata": {},
   "outputs": [
    {
     "ename": "UnboundLocalError",
     "evalue": "cannot access local variable 'P_pred_eye' where it is not associated with a value",
     "output_type": "error",
     "traceback": [
      "\u001b[0;31m---------------------------------------------------------------------------\u001b[0m",
      "\u001b[0;31mUnboundLocalError\u001b[0m                         Traceback (most recent call last)",
      "Cell \u001b[0;32mIn[7], line 1\u001b[0m\n\u001b[0;32m----> 1\u001b[0m \u001b[43mpredict_identity_F\u001b[49m\u001b[43m(\u001b[49m\u001b[43mpann_both_model\u001b[49m\u001b[43m)\u001b[49m\n",
      "File \u001b[0;32m~/Programmierter_Stuff/Python/TML4SM/TML4SM_TuD/hyperelasticity/src/predict_utils.py:40\u001b[0m, in \u001b[0;36mpredict_identity_F\u001b[0;34m(model)\u001b[0m\n\u001b[1;32m     37\u001b[0m     model\u001b[38;5;241m.\u001b[39muse_output_and_derivative \u001b[38;5;241m=\u001b[39m \u001b[38;5;28;01mFalse\u001b[39;00m\n\u001b[1;32m     38\u001b[0m     model\u001b[38;5;241m.\u001b[39mcompile()\n\u001b[0;32m---> 40\u001b[0m \u001b[38;5;28mprint\u001b[39m(\u001b[38;5;124mf\u001b[39m\u001b[38;5;124m'\u001b[39m\u001b[38;5;124mP predicted: \u001b[39m\u001b[38;5;130;01m\\n\u001b[39;00m\u001b[38;5;132;01m{\u001b[39;00m\u001b[43mP_pred_eye\u001b[49m\u001b[38;5;132;01m}\u001b[39;00m\u001b[38;5;124m'\u001b[39m)\n\u001b[1;32m     41\u001b[0m \u001b[38;5;28mprint\u001b[39m(\u001b[38;5;124mf\u001b[39m\u001b[38;5;124m'\u001b[39m\u001b[38;5;124mW predicted: \u001b[39m\u001b[38;5;130;01m\\n\u001b[39;00m\u001b[38;5;132;01m{\u001b[39;00mW_pred_eye\u001b[38;5;132;01m}\u001b[39;00m\u001b[38;5;124m'\u001b[39m)\n",
      "\u001b[0;31mUnboundLocalError\u001b[0m: cannot access local variable 'P_pred_eye' where it is not associated with a value"
     ]
    }
   ],
   "source": [
    "predict_identity_F(pann_both_model)"
   ]
  },
  {
   "cell_type": "markdown",
   "metadata": {},
   "source": [
    "## Model calibration on one load case"
   ]
  },
  {
   "cell_type": "code",
   "execution_count": null,
   "metadata": {},
   "outputs": [],
   "source": [
    "train_features = uniaxial_F\n",
    "train_labels = uniaxial_P"
   ]
  },
  {
   "cell_type": "code",
   "execution_count": null,
   "metadata": {},
   "outputs": [],
   "source": [
    "pann_stress_model = InvariantsICNN(\n",
    "    hidden_sizes=[16, 1],\n",
    "    activations=['softplus', 'linear']\n",
    ")\n",
    "pann_stress_model.compile(\n",
    "    optimizer=optimizers.Adam(learning_rate=0.01),\n",
    "    loss=losses.MeanSquaredError()\n",
    ")\n",
    "h = pann_stress_model.fit(train_features, train_labels, batch_size=32, epochs=1000, verbose=0)\n",
    "loss = h.history['loss']"
   ]
  },
  {
   "cell_type": "code",
   "execution_count": null,
   "metadata": {},
   "outputs": [],
   "source": [
    "fig_stress_loss = plot_loss(loss)\n",
    "fig_stress_loss.tight_layout()\n",
    "plt.show()"
   ]
  },
  {
   "cell_type": "markdown",
   "metadata": {},
   "source": [
    "### Model Evaluation"
   ]
  },
  {
   "cell_type": "markdown",
   "metadata": {},
   "source": [
    "#### -- on seen load cases"
   ]
  },
  {
   "cell_type": "code",
   "execution_count": null,
   "metadata": {},
   "outputs": [],
   "source": [
    "biaxial_predictions = pann_stress_model.predict(biaxial_F)\n",
    "pure_shear_predictions = pann_stress_model.predict(pure_shear_F)\n",
    "uniaxial_predictions = pann_stress_model.predict(uniaxial_F)"
   ]
  },
  {
   "cell_type": "code",
   "execution_count": null,
   "metadata": {},
   "outputs": [],
   "source": [
    "labels = {\n",
    "    'biaxial': biaxial_P.numpy().reshape((-1, 9)),\n",
    "    'pure_shear': pure_shear_P.numpy().reshape((-1, 9)),\n",
    "    'uniaxial': uniaxial_P.numpy().reshape((-1, 9)),\n",
    "}\n",
    "predictions = {\n",
    "    'biaxial': biaxial_predictions.reshape((-1, 9)),\n",
    "    'pure_shear': pure_shear_predictions.reshape((-1, 9)),\n",
    "    'uniaxial': uniaxial_predictions.reshape((-1, 9)),\n",
    "}\n",
    "fig_train_pred = plot_stress_predictions(labels, predictions)\n",
    "fig_train_pred.tight_layout()\n",
    "plt.show()"
   ]
  },
  {
   "cell_type": "markdown",
   "metadata": {},
   "source": [
    "#### -- on unseen load cases"
   ]
  },
  {
   "cell_type": "code",
   "execution_count": null,
   "metadata": {},
   "outputs": [],
   "source": [
    "biax_test_preds = pann_stress_model.predict(biax_test_F)\n",
    "mixed_test_preds = pann_stress_model.predict(mixed_test_F)"
   ]
  },
  {
   "cell_type": "code",
   "execution_count": null,
   "metadata": {},
   "outputs": [],
   "source": [
    "test_labels = {\n",
    "    'biaxial': biax_test_P.numpy().reshape((-1, 9)),\n",
    "    'mixed': mixed_test_P.numpy().reshape((-1, 9)),\n",
    "}\n",
    "test_predictions = {\n",
    "    'biaxial': biax_test_preds.reshape((-1, 9)),\n",
    "    'mixed': mixed_test_preds.reshape((-1, 9)),\n",
    "}\n",
    "fig_test_pred = plot_stress_predictions(test_labels, test_predictions)\n",
    "fig_test_pred.tight_layout()\n",
    "plt.show()"
   ]
  }
 ],
 "metadata": {
  "kernelspec": {
   "display_name": "forl_kernel",
   "language": "python",
   "name": "forl_kernel"
  },
  "language_info": {
   "codemirror_mode": {
    "name": "ipython",
    "version": 3
   },
   "file_extension": ".py",
   "mimetype": "text/x-python",
   "name": "python",
   "nbconvert_exporter": "python",
   "pygments_lexer": "ipython3",
   "version": "3.11.0rc1"
  }
 },
 "nbformat": 4,
 "nbformat_minor": 2
}
